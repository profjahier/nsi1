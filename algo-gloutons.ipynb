{
 "cells": [
  {
   "cell_type": "markdown",
   "metadata": {},
   "source": [
    "# Découvrir les algorithmes gloutons"
   ]
  },
  {
   "cell_type": "markdown",
   "metadata": {},
   "source": [
    "## 1- Problème du rendu de monnaie"
   ]
  },
  {
   "cell_type": "markdown",
   "metadata": {},
   "source": [
    "On désire implémenter un algorithme de rendu de monnaie dans un distributeur de boissons. Le monnayeur utilise des pièces de 0,01 € - 0,02 € - 0,05 € - 0,10 € - 0,20 € - 0,50 € - 1 € et 2 €. \n",
    "\n",
    "Pour faciliter la vie des clients, l'algorithme doit faire en sorte de rendre le moins de pièces possibles.\n",
    "\n",
    "La stratégie mise en oeuvre est la suivante : on choisit les pièces à rendre une par une, et à chaque étape, on choisit la pièce de plus grande valeur possible pour minimiser la somme à rendre à l'étape suivante. \n",
    "\n",
    "On a ainsi décidé d'un **critère local** de choix (rendre la plus grande pièce) en espérant optimiser un **critère global** (rendre le moins de pièces) : c'est le principe général d'un **algorithme glouton**."
   ]
  },
  {
   "cell_type": "code",
   "execution_count": null,
   "metadata": {},
   "outputs": [],
   "source": [
    "# valeurs des pièces disponibles (triées par ordre décroissant)\n",
    "jeu_pieces = [200, 100, 50, 20, 10, 5, 2, 1]"
   ]
  },
  {
   "cell_type": "markdown",
   "metadata": {},
   "source": [
    "**Exo** : écrire une fonction `rendu_monnaie(somme_a_rendre, jeu_de_pieces)` qui prend en paramètre la somme à rendre et une liste de pièces disponibles, pour renvoyer la liste des pièces à rendre."
   ]
  },
  {
   "cell_type": "code",
   "execution_count": null,
   "metadata": {},
   "outputs": [],
   "source": [
    "def rendu_monnaie(somme_a_rendre, jeu_pieces):\n",
    "    \"\"\" Renvoie la liste des pièces à rendre pour atteindre la somme à rendre.\n",
    "    - Précondition : somme_a_rendre est un nombre (avec 2 décimales maximum) \n",
    "    - Postcondition : pieces_rendues esst une liste d'entiers (les valeurs des pièces rendues) \n",
    "    \"\"\"\n",
    "    pieces_rendues = []\n",
    "    ### BEGIN SOLUTION\n",
    "    \n",
    "    ### END SOLUTION\n",
    "    return pieces_rendues"
   ]
  },
  {
   "cell_type": "code",
   "execution_count": null,
   "metadata": {},
   "outputs": [],
   "source": [
    "assert rendu_monnaie(201, jeu_pieces) == [200, 1]\n",
    "assert rendu_monnaie(45, jeu_pieces) == [20, 20, 5]\n",
    "assert rendu_monnaie(73, jeu_pieces) == [50, 20, 2, 1]"
   ]
  },
  {
   "cell_type": "code",
   "execution_count": null,
   "metadata": {},
   "outputs": [],
   "source": [
    "# tests\n",
    "sommes = [201, 45, 73]\n",
    "for somme in sommes:\n",
    "    print(f\"somme = {somme} € => rendu monnaie : {rendu_monnaie(somme, jeu_pieces)}\")"
   ]
  },
  {
   "cell_type": "markdown",
   "metadata": {},
   "source": [
    "### Changeons de jeu de pièces disponibles :\n",
    "Dans un pays imaginaire, en Infoland, l'unité de monnaie est l'Ada (symbole $\\mathbb{A}$) et le système de monnaie ne comporte que des pièces de :\n",
    "1 $\\mathbb{A}$, 3 $\\mathbb{A}$, 4 $\\mathbb{A}$, 10 $\\mathbb{A}$, 30 $\\mathbb{A}$, 40 $\\mathbb{A}$, 100 \n",
    "$\\mathbb{A}$."
   ]
  },
  {
   "cell_type": "code",
   "execution_count": null,
   "metadata": {},
   "outputs": [],
   "source": [
    "# valeurs des pièces disponibles (triées par ordre décroissant)\n",
    "jeu_pieces_Ada = [100, 40, 30, 10, 4, 3, 1]"
   ]
  },
  {
   "cell_type": "markdown",
   "metadata": {},
   "source": [
    "**Exo** : reprendre la même fonction précédente et tester avec quelques valeurs de sommes à rendre. Selon vos tests, l'algorithme fournit-il toujours la solution idéale ?"
   ]
  },
  {
   "cell_type": "code",
   "execution_count": null,
   "metadata": {},
   "outputs": [],
   "source": [
    "# zone de tests"
   ]
  },
  {
   "cell_type": "code",
   "execution_count": null,
   "metadata": {},
   "outputs": [],
   "source": [
    "assert rendu_monnaie(6, jeu_pieces_Ada) == [4, 1, 1]"
   ]
  },
  {
   "cell_type": "markdown",
   "metadata": {},
   "source": [
    "## 2- Le problème du sac à dos"
   ]
  },
  {
   "cell_type": "markdown",
   "metadata": {},
   "source": [
    "### Présentation :\n",
    "Un cambrioleur pénètre dans une maison et désire repartir avec le butin de plus grande valeur possible. Mais il ne peut remplir qu'un seul sac à dos limité en poids. La maison regorge d'objets intéressants de valeurs et de poids différents.\n",
    "\n",
    "Quels objets faut-il mettre dans le sac à dos de manière à maximiser la valeur totale sans dépasser le poids maximum autorisé ?\n",
    "\n",
    "On souhaite répondre au problème en utilisant un algorithme glouton.\n",
    "\n",
    "1. Quel est le critère global à satisfaire dans le problème du sac à dos ?\n",
    "2. Quels critères locaux peut-on appliquer à chaque étape ? En donner au moins deux."
   ]
  },
  {
   "cell_type": "markdown",
   "metadata": {},
   "source": [
    "### Mise en oeuvre :\n",
    "\n",
    "Pour simplifier suppose qu'il y seulement 4 objets présents dans la maison. \n",
    "\n",
    "Les valeurs respectives sont : 7, 3, 4, 3 (en €) et les poids respectifs sont : 13, 8, 12, 10 (en kg).\n",
    "<table>\n",
    "    <tr><td>Valeur (€) : </td><td>7</td><td>3</td><td>4</td><td>3</td></tr>\n",
    "    <tr><td>Poids (kg) :</td><td>13</td><td>8</td><td>12</td><td>10</td></tr>\n",
    "</table>\n",
    "    "
   ]
  },
  {
   "cell_type": "code",
   "execution_count": null,
   "metadata": {},
   "outputs": [],
   "source": [
    "valeurs = [7, 3, 4, 3]\n",
    "poids = [13, 8, 12, 10]\n",
    "# l'utilisation de la fonction zip permet de grouper ces 2 listes en une liste de tuples (valeur, poids) :\n",
    "objets = list(zip(valeurs, poids))\n",
    "print(objets)"
   ]
  },
  {
   "cell_type": "markdown",
   "metadata": {},
   "source": [
    "**Exo préliminaire** :\n",
    "\n",
    "1. écrire une fonction `valeur_totale(objets)` qui prend en paramètre une liste d'objets qui sont des couples (valeur, poids) et qui renvoie la valeur totale de ces objets.\n",
    "2. écrire une fonction `poids_total(objets)` qui prend en paramètre une liste d'objets qui sont des couples (valeur, poids) et qui renvoie le poids total de ces objets."
   ]
  },
  {
   "cell_type": "code",
   "execution_count": null,
   "metadata": {},
   "outputs": [],
   "source": [
    "def valeur_totale(objets):\n",
    "    ### BEGIN SOLUTION\n",
    "    \n",
    "    ### END SOLUTION\n",
    "    \n",
    "def poids_total(objets):\n",
    "    ### BEGIN SOLUTION\n",
    "    \n",
    "    ### END SOLUTION"
   ]
  },
  {
   "cell_type": "code",
   "execution_count": null,
   "metadata": {},
   "outputs": [],
   "source": [
    "assert valeur_totale(objets) == 17\n",
    "assert poids_total(objets) == 43"
   ]
  },
  {
   "cell_type": "markdown",
   "metadata": {},
   "source": [
    "### Première stratégie :\n",
    "Critère local de l'algorithme glouton : on choisit à chaque étape l'objet dont la valeur est la plus grande."
   ]
  },
  {
   "cell_type": "markdown",
   "metadata": {},
   "source": [
    "**Exo** : écrire une fonction `sac_a_dos_1(objets, poids_maxi)` qui prend en paramètres la liste des objets (ce sont des couples (valeur, poids)) qu'on peut choisir et le poids maxi du sac à dos, et qui renvoie la liste des objets retenus.\n",
    "\n",
    "*Attention* : Cette fonction commencera par trier les objets par valeur décroissante."
   ]
  },
  {
   "cell_type": "code",
   "execution_count": null,
   "metadata": {},
   "outputs": [],
   "source": [
    "def sac_a_dos_1(objets, poids_maxi):\n",
    "    \"\"\" Renvoie la liste des objets retenus.\n",
    "    - Préconditions : objets est une liste d'objets à choisir (chaque objet est une tuple (valeur, poids))\n",
    "    - Postconditions : la valeur renvoyée est la liste d'objets retenus\n",
    "    \"\"\"\n",
    "    ### BEGIN SOLUTION\n",
    "    \n",
    "    ### END SOLUTION\n",
    "    return objets_retenus"
   ]
  },
  {
   "cell_type": "code",
   "execution_count": null,
   "metadata": {},
   "outputs": [],
   "source": [
    "assert sac_a_dos_1(objets, 22) == [(7, 13), (3, 8)]\n",
    "assert valeur_totale(sac_a_dos_1(objets, 30)) == 11\n",
    "assert poids_total(sac_a_dos_1(objets, 15)) == 13"
   ]
  },
  {
   "cell_type": "markdown",
   "metadata": {},
   "source": [
    "#### Tests :\n",
    "On testera la fonction pour la liste d'objets donnée en intro et pour des poids maxi de sac à dos de 15, 22, 30 et 100 kg.\n",
    "\n",
    "Pour chaque test on calculera aussi la valeur du sac à dos, et son poids final (en s'assurant avec un assert qu'il est bien inférieur au poids maxi autorisé)."
   ]
  },
  {
   "cell_type": "code",
   "execution_count": null,
   "metadata": {},
   "outputs": [],
   "source": [
    "# tests :\n",
    "poids_maxi = [15, 22, 30, 100]\n",
    "for poids in poids_maxi:\n",
    "    objets_retenus = sac_a_dos_1(objets, poids)\n",
    "    print(\"objets retenus :\", objets_retenus)\n",
    "    print(\"valeur totale :\", valeur_totale(objets_retenus))\n",
    "    print(\"poids total :\", poids_total(objets_retenus))\n",
    "    assert poids_total(objets_retenus) < poids, \"le poids du sac est supérieur à son poids maxi\""
   ]
  },
  {
   "cell_type": "markdown",
   "metadata": {},
   "source": [
    "### Deuxième stratégie :\n",
    "Critère local de l'algorithme glouton : on choisit à chaque étape l'objet dont le rapport valeur/poids est le plus grand."
   ]
  },
  {
   "cell_type": "markdown",
   "metadata": {},
   "source": [
    "**Exo** : écrire une fonction `sac_a_dos_2(objets, poids_maxi)` qui prend en paramètres la liste des objets (ce sont des couples (valeur, poids)) qu'on peut choisir et le poids maxi du sac à dos, et qui renvoie la liste des objets retenus.\n",
    "\n",
    "Cette fonction commencera par trier les objets selon leur rapport valeur/poids décroissant. \n",
    "\n",
    "*Rappel du cours sur les tris* : pour des tris selon des critères \"compliqués\", on peut créer une fonction annexe qui définit cette clef de tri que l'on affecte au paramètre `key` de la méthode `sort` (ou de la fonction `sorted`)."
   ]
  },
  {
   "cell_type": "code",
   "execution_count": null,
   "metadata": {},
   "outputs": [],
   "source": [
    "def clef_tri(objet):\n",
    "    \"\"\" Renvoie la clef de tri valeur/poids de l'objet.\n",
    "    - précondition  : objet est un tuple (valeur, poids) \n",
    "    - postcondition : renvoie un nombre qui est le rapport valeur/poids\n",
    "    \"\"\"\n",
    "    (valeur, poids) = objet\n",
    "    return valeur/poids"
   ]
  },
  {
   "cell_type": "code",
   "execution_count": null,
   "metadata": {},
   "outputs": [],
   "source": [
    "def sac_a_dos_2(objets, poids_maxi):\n",
    "    \"\"\" Renvoie la liste des objets retenus.\n",
    "    - Préconditions : objets est une liste d'objets à choisir (chaque objet est une tuple (valeur, poids))\n",
    "    - Postconditions : la valeur renvoyée est la liste d'objets retenus\n",
    "    \"\"\"\n",
    "    ### BEGIN SOLUTION\n",
    "    \n",
    "    ### END SOLUTION\n",
    "    return objets_retenus"
   ]
  },
  {
   "cell_type": "code",
   "execution_count": null,
   "metadata": {},
   "outputs": [],
   "source": [
    "assert sac_a_dos_2(objets, 22) == [(7, 13), (3, 8)]\n",
    "assert valeur_totale(sac_a_dos_2(objets, 30)) == 10\n",
    "assert poids_total(sac_a_dos_2(objets, 15)) == 13"
   ]
  },
  {
   "cell_type": "markdown",
   "metadata": {},
   "source": [
    "#### Tests :\n",
    "On testera la fonction pour la liste d'objets donnée en intro et pour des poids maxi de sac à dos de 15, 22, 30 et 100 kg.\n",
    "\n",
    "Pour chaque test on calculera aussi la valeur du sac à dos, et son poids final (en s'assurant avec un assert qu'il est bien inférieur au poids maxi autorisé)."
   ]
  },
  {
   "cell_type": "code",
   "execution_count": null,
   "metadata": {},
   "outputs": [],
   "source": [
    "# tests :\n",
    "poids_maxi = [15, 22, 30, 100]\n",
    "for poids in poids_maxi:\n",
    "    objets_retenus = sac_a_dos_2(objets, poids)\n",
    "    print(\"objets retenus :\", objets_retenus)\n",
    "    print(\"valeur totale :\", valeur_totale(objets_retenus))\n",
    "    print(\"poids total :\", poids_total(objets_retenus))\n",
    "    assert poids_total(objets_retenus) < poids, \"le poids du sac est supérieur à son poids maxi\""
   ]
  },
  {
   "cell_type": "markdown",
   "metadata": {},
   "source": [
    "### Compaison des 2 stratégies gloutonnes :\n",
    "On se propose de tester les 2 stratégies pour des 2 jeux de données différents.\n",
    "\n",
    "Jeu 1 : Poids maxi = 30 kg, liste d'objets :\n",
    "\n",
    "| Valeur (€) :| 7| 3| 4 | 3 | \n",
    "| :- | -| -|- | - |\n",
    "|Poids (kg) :|13 | 8 | 12 | 10 |\n",
    "\n",
    "Jeu 2 : Poids maxi = 520 kg, liste d'objets :\n",
    "\n",
    "| Valeur (€) :|  6| 8| 14 | 6 | 13 | 17 | 10 | 4 | 5| 11 | 26 | 35 | 2 | 1 | 2 | 7 | 15 | 17 | 30 | 3 |\n",
    "| :- | -| -|- | - |-| -| - | - | -| - | - |- | - | - |- | - | - | - | - |- |\n",
    "|Poids (kg) :|20 | 30 | 50 | 20 | 40 | 60 | 30 | 10 | 14| 36 | 72 | 86 | 5 | 3 | 7 | 23 | 49 | 57 | 69 | 12 |"
   ]
  },
  {
   "cell_type": "code",
   "execution_count": null,
   "metadata": {},
   "outputs": [],
   "source": [
    "# Jeu 1 :\n",
    "valeurs = [7, 3, 4, 3]\n",
    "poids = [13, 8, 12, 10]\n",
    "objets_1 = list(zip(valeurs, poids))\n",
    "poids_max_1 = 30\n",
    "\n",
    "# Jeu 2 :\n",
    "valeurs = [6, 8, 14, 6, 13, 17, 10, 4, 5, 11, 26, 35, 2, 1, 2, 7, 15, 17, 30, 3]\n",
    "poids = [20, 30, 50, 20, 40, 60, 30 ,10 , 14, 36, 72 , 86 , 5, 3, 7, 23, 49, 57, 69, 12]\n",
    "objets_2 = list(zip(valeurs, poids))\n",
    "poids_max_2 = 520"
   ]
  },
  {
   "cell_type": "markdown",
   "metadata": {},
   "source": [
    "**Exo** : Chercher pour chaque jeu de données quelle est la meilleure stratégie."
   ]
  },
  {
   "cell_type": "code",
   "execution_count": null,
   "metadata": {},
   "outputs": [],
   "source": [
    "# Jeu 1 :\n",
    "### BEGIN SOLUTION\n",
    "\n",
    "### END SOLUTION"
   ]
  },
  {
   "cell_type": "markdown",
   "metadata": {},
   "source": [
    "Conclusion : Pour le 1er jeu de données, la **première** stratégie est meilleure."
   ]
  },
  {
   "cell_type": "code",
   "execution_count": null,
   "metadata": {},
   "outputs": [],
   "source": [
    "# Jeu 2 :\n",
    "### BEGIN SOLUTION\n",
    "\n",
    "### END SOLUTION"
   ]
  },
  {
   "cell_type": "markdown",
   "metadata": {},
   "source": [
    "Conclusion : Pour le 2nde jeu de données, la **deuxième** stratégie est meilleure."
   ]
  },
  {
   "cell_type": "markdown",
   "metadata": {},
   "source": [
    "# Conclusion finale : \n",
    "Un algorithme glouton **produit une solution pas à pas**, en faisant à chaque étape un choix qui optimise un **critère local**, dans l'espoir d'obtenir une **optimisation globale**.\n",
    "\n",
    "Cependant, les algorithmes gloutons **ne fournissent pas toujours la solution optimale**, et il peut être difficile de définir le meilleur critère local pour espérer optimiser la solution globale."
   ]
  },
  {
   "cell_type": "code",
   "execution_count": null,
   "metadata": {},
   "outputs": [],
   "source": []
  }
 ],
 "metadata": {
  "celltoolbar": "Format de la Cellule Texte Brut",
  "kernelspec": {
   "display_name": "Python 3",
   "language": "python",
   "name": "python3"
  },
  "language_info": {
   "codemirror_mode": {
    "name": "ipython",
    "version": 3
   },
   "file_extension": ".py",
   "mimetype": "text/x-python",
   "name": "python",
   "nbconvert_exporter": "python",
   "pygments_lexer": "ipython3",
   "version": "3.7.5"
  }
 },
 "nbformat": 4,
 "nbformat_minor": 2
}
